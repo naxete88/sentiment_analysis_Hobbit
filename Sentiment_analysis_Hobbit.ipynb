{
 "cells": [
  {
   "cell_type": "markdown",
   "id": "2d4a72b0",
   "metadata": {},
   "source": [
    "# Análisis de sentimiento de textos / Sentiment analysis of texts"
   ]
  },
  {
   "cell_type": "code",
   "execution_count": 77,
   "id": "9cf5148f",
   "metadata": {},
   "outputs": [
    {
     "name": "stderr",
     "output_type": "stream",
     "text": [
      "[nltk_data] Downloading package punkt to\n",
      "[nltk_data]     C:\\Users\\imber\\AppData\\Roaming\\nltk_data...\n",
      "[nltk_data]   Package punkt is already up-to-date!\n",
      "[nltk_data] Downloading package stopwords to\n",
      "[nltk_data]     C:\\Users\\imber\\AppData\\Roaming\\nltk_data...\n",
      "[nltk_data]   Package stopwords is already up-to-date!\n",
      "[nltk_data] Downloading package wordnet to\n",
      "[nltk_data]     C:\\Users\\imber\\AppData\\Roaming\\nltk_data...\n",
      "[nltk_data]   Package wordnet is already up-to-date!\n",
      "[nltk_data] Downloading package omw-1.4 to\n",
      "[nltk_data]     C:\\Users\\imber\\AppData\\Roaming\\nltk_data...\n",
      "[nltk_data]   Package omw-1.4 is already up-to-date!\n",
      "[nltk_data] Downloading package averaged_perceptron_tagger to\n",
      "[nltk_data]     C:\\Users\\imber\\AppData\\Roaming\\nltk_data...\n",
      "[nltk_data]   Package averaged_perceptron_tagger is already up-to-\n",
      "[nltk_data]       date!\n"
     ]
    },
    {
     "data": {
      "text/plain": [
       "True"
      ]
     },
     "execution_count": 77,
     "metadata": {},
     "output_type": "execute_result"
    }
   ],
   "source": [
    "# importamos las bibliotecas\n",
    "# importing the libraries\n",
    "import nltk\n",
    "import pandas as pd\n",
    "import matplotlib.pyplot as plt\n",
    "from nltk.tokenize import sent_tokenize\n",
    "from nltk.tokenize import word_tokenize\n",
    "from nltk.probability import FreqDist\n",
    "from textblob import TextBlob\n",
    "from nltk.stem import PorterStemmer\n",
    "from nltk.tokenize import sent_tokenize, word_tokenize, RegexpTokenizer\n",
    "from nltk.stem.wordnet import WordNetLemmatizer\n",
    "from nltk.stem.porter import PorterStemmer\n",
    "from nltk.corpus import stopwords, treebank\n",
    "from sklearn.feature_extraction.text import CountVectorizer\n",
    "from sklearn.model_selection import train_test_split\n",
    "from sklearn.naive_bayes import MultinomialNB\n",
    "from sklearn import metrics\n",
    "from sklearn.feature_extraction.text import TfidfVectorizer\n",
    "from vaderSentiment.vaderSentiment import SentimentIntensityAnalyzer\n",
    "nltk.download('punkt')\n",
    "nltk.download('stopwords')\n",
    "nltk.download('wordnet')\n",
    "nltk.download('omw-1.4')\n",
    "nltk.download('averaged_perceptron_tagger')"
   ]
  },
  {
   "cell_type": "markdown",
   "id": "44e1e3b3",
   "metadata": {},
   "source": [
    "**Tomamos un texto y calculamos la frecuencia de palabras** \n",
    "\n",
    "Taking a text and calculating the frequency of words"
   ]
  },
  {
   "cell_type": "code",
   "execution_count": 78,
   "id": "cf084eb4",
   "metadata": {},
   "outputs": [],
   "source": [
    "text = \"\"\"In a hole in the ground there lived a hobbit. \n",
    "Not a nasty, dirty, wet hole, filled with the ends of worms and an oozy smell, \n",
    "nor yet a dry, bare, sandy hole with nothing in it to sit down on or to eat: \n",
    "it was a hobbit-hole, and that means comfort.\"\"\""
   ]
  },
  {
   "cell_type": "code",
   "execution_count": 79,
   "id": "8acd94c0",
   "metadata": {},
   "outputs": [
    {
     "name": "stdout",
     "output_type": "stream",
     "text": [
      "['In a hole in the ground there lived a hobbit.', 'Not a nasty, dirty, wet hole, filled with the ends of worms and an oozy smell, \\nnor yet a dry, bare, sandy hole with nothing in it to sit down on or to eat: \\nit was a hobbit-hole, and that means comfort.']\n"
     ]
    }
   ],
   "source": [
    "# dividimos el texto en oraciones \n",
    "# splitting the text into sentences\n",
    "tokenized_text = sent_tokenize(text)\n",
    "print(tokenized_text)"
   ]
  },
  {
   "cell_type": "code",
   "execution_count": 80,
   "id": "966d2d7f",
   "metadata": {},
   "outputs": [
    {
     "name": "stdout",
     "output_type": "stream",
     "text": [
      "['in', 'a', 'hole', 'in', 'the', 'ground', 'there', 'lived', 'a', 'hobbit', 'not', 'a', 'nasty', 'dirty', 'wet', 'hole', 'filled', 'with', 'the', 'ends', 'of', 'worms', 'and', 'an', 'oozy', 'smell', 'nor', 'yet', 'a', 'dry', 'bare', 'sandy', 'hole', 'with', 'nothing', 'in', 'it', 'to', 'sit', 'down', 'on', 'or', 'to', 'eat', 'it', 'was', 'a', 'and', 'that', 'means', 'comfort']\n"
     ]
    }
   ],
   "source": [
    "# dividimos el texto en palabras\n",
    "# splitting the text into words\n",
    "tokenized_word = word_tokenize(text)\n",
    "# elimino los signos de puntuación\n",
    "# removing punctuation marks\n",
    "tokenized_word =[word.lower() for word in tokenized_word if word.isalpha()]\n",
    "print(tokenized_word)"
   ]
  },
  {
   "cell_type": "code",
   "execution_count": 81,
   "id": "a79e6315",
   "metadata": {},
   "outputs": [
    {
     "name": "stdout",
     "output_type": "stream",
     "text": [
      "<FreqDist with 38 samples and 51 outcomes>\n"
     ]
    }
   ],
   "source": [
    "# miramos la frecuencia \n",
    "# looking at the frequencies\n",
    "fdist = FreqDist(tokenized_word)\n",
    "print(fdist)"
   ]
  },
  {
   "cell_type": "code",
   "execution_count": 82,
   "id": "4014ee67",
   "metadata": {},
   "outputs": [
    {
     "data": {
      "text/plain": [
       "[('a', 5),\n",
       " ('in', 3),\n",
       " ('hole', 3),\n",
       " ('the', 2),\n",
       " ('with', 2),\n",
       " ('and', 2),\n",
       " ('it', 2),\n",
       " ('to', 2),\n",
       " ('ground', 1),\n",
       " ('there', 1),\n",
       " ('lived', 1),\n",
       " ('hobbit', 1),\n",
       " ('not', 1),\n",
       " ('nasty', 1),\n",
       " ('dirty', 1),\n",
       " ('wet', 1),\n",
       " ('filled', 1),\n",
       " ('ends', 1),\n",
       " ('of', 1),\n",
       " ('worms', 1),\n",
       " ('an', 1),\n",
       " ('oozy', 1),\n",
       " ('smell', 1),\n",
       " ('nor', 1),\n",
       " ('yet', 1),\n",
       " ('dry', 1),\n",
       " ('bare', 1),\n",
       " ('sandy', 1),\n",
       " ('nothing', 1),\n",
       " ('sit', 1),\n",
       " ('down', 1),\n",
       " ('on', 1),\n",
       " ('or', 1),\n",
       " ('eat', 1),\n",
       " ('was', 1),\n",
       " ('that', 1),\n",
       " ('means', 1),\n",
       " ('comfort', 1)]"
      ]
     },
     "execution_count": 82,
     "metadata": {},
     "output_type": "execute_result"
    }
   ],
   "source": [
    "# miramos como se repiten\n",
    "# let's see how many times they repeat\n",
    "fdist.most_common()"
   ]
  },
  {
   "cell_type": "code",
   "execution_count": 83,
   "id": "0f99f500",
   "metadata": {},
   "outputs": [
    {
     "data": {
      "image/png": "[encoded data removed]",
      "text/plain": [
       "<Figure size 1440x720 with 1 Axes>"
      ]
     },
     "metadata": {
      "needs_background": "light"
     },
     "output_type": "display_data"
    }
   ],
   "source": [
    "fdist.plot(43, cumulative = False)\n",
    "plt.rcParams[\"figure.figsize\"] = (20,10)\n",
    "plt.show()"
   ]
  },
  {
   "cell_type": "markdown",
   "id": "44eee5a0",
   "metadata": {},
   "source": [
    "**Exercici 2 Treu les stopwords i realitza stemming al teu conjunt de dades.**"
   ]
  },
  {
   "cell_type": "code",
   "execution_count": 84,
   "id": "3aec2e4d",
   "metadata": {},
   "outputs": [
    {
     "name": "stdout",
     "output_type": "stream",
     "text": [
      "{'ve', 'she', 'yours', 'while', 'ourselves', 'own', \"wouldn't\", 'has', 'are', 'their', \"shan't\", 'y', 'this', 'where', 'an', \"mustn't\", 'our', \"didn't\", 'its', 'from', 'be', 'being', 'both', 'does', 'that', 'most', \"hadn't\", 'theirs', 'down', 'doesn', 'my', 'herself', 'any', 'here', 'until', \"you'll\", 'in', 'you', 'ma', 'through', 'having', 'but', 'myself', 'off', \"haven't\", 'again', 's', 'few', 'did', 'were', 'what', \"doesn't\", 'him', 'haven', 'so', 'with', 'himself', \"you'd\", \"you've\", 'aren', 'such', 'wasn', \"wasn't\", \"don't\", \"isn't\", 'shouldn', 'have', 'against', 'into', 'they', 'can', 'whom', 'won', 'no', 'll', 'd', 'hers', \"weren't\", 'her', 'yourself', 'before', 'further', 'then', 'shan', \"shouldn't\", \"you're\", \"mightn't\", 't', 'just', 'other', 'ours', 'don', 'had', 'not', 'only', 'couldn', 'mightn', 'same', 'am', 'the', 'each', 'hadn', 'hasn', 'more', 'itself', 'for', 'to', \"needn't\", 'than', 'as', 'about', 'at', 'on', 'and', 'didn', 'i', 'it', 'is', 'why', 'yourselves', \"couldn't\", 'mustn', 'these', 'out', 'now', 'ain', 'wouldn', 'isn', \"hasn't\", 'which', 'after', 'when', 'm', 'them', 'some', 'his', 'all', \"aren't\", \"won't\", 'once', 'a', 'or', 'because', \"it's\", \"should've\", 'should', 'too', 'doing', 'he', 'do', 'below', 'between', 'me', 'those', 'very', 'over', 'nor', 'weren', \"she's\", 'themselves', 'by', 're', 'if', 'how', 'during', 'needn', 'of', 'under', \"that'll\", 'up', 'who', 'was', 'above', 'your', 'will', 'we', 'o', 'there', 'been'}\n"
     ]
    }
   ],
   "source": [
    "# miramos cuales son las stopwords correspondientes\n",
    "# looking at the corresponding stopwords\n",
    "stop_words = set(stopwords.words(\"english\"))\n",
    "print(stop_words)"
   ]
  },
  {
   "cell_type": "markdown",
   "id": "316eda5e",
   "metadata": {},
   "source": [
    "**eliminamos las stopwords**\n",
    "\n",
    "deliting the stopwords"
   ]
  },
  {
   "cell_type": "code",
   "execution_count": 85,
   "id": "70df2578",
   "metadata": {},
   "outputs": [
    {
     "name": "stdout",
     "output_type": "stream",
     "text": [
      "Tokenized Sentence: ['in', 'a', 'hole', 'in', 'the', 'ground', 'there', 'lived', 'a', 'hobbit', 'not', 'a', 'nasty', 'dirty', 'wet', 'hole', 'filled', 'with', 'the', 'ends', 'of', 'worms', 'and', 'an', 'oozy', 'smell', 'nor', 'yet', 'a', 'dry', 'bare', 'sandy', 'hole', 'with', 'nothing', 'in', 'it', 'to', 'sit', 'down', 'on', 'or', 'to', 'eat', 'it', 'was', 'a', 'and', 'that', 'means', 'comfort']\n",
      "Filtered Sentence: ['hole', 'ground', 'lived', 'hobbit', 'nasty', 'dirty', 'wet', 'hole', 'filled', 'ends', 'worms', 'oozy', 'smell', 'yet', 'dry', 'bare', 'sandy', 'hole', 'nothing', 'sit', 'eat', 'means', 'comfort']\n"
     ]
    }
   ],
   "source": [
    "filtered_sent = []\n",
    "for w in tokenized_word:\n",
    "    if w not in stop_words:\n",
    "        filtered_sent.append(w)\n",
    "print(\"Tokenized Sentence:\", tokenized_word)\n",
    "print(\"Filtered Sentence:\", filtered_sent)"
   ]
  },
  {
   "cell_type": "markdown",
   "id": "760a02f2",
   "metadata": {},
   "source": [
    "**normalización lingüística stemming**\n",
    "\n",
    "linguistic normalization stemming"
   ]
  },
  {
   "cell_type": "code",
   "execution_count": 86,
   "id": "2385370e",
   "metadata": {},
   "outputs": [
    {
     "name": "stdout",
     "output_type": "stream",
     "text": [
      "Filtered Sentence: ['in', 'a', 'hole', 'in', 'the', 'ground', 'there', 'lived', 'a', 'hobbit', 'not', 'a', 'nasty', 'dirty', 'wet', 'hole', 'filled', 'with', 'the', 'ends', 'of', 'worms', 'and', 'an', 'oozy', 'smell', 'nor', 'yet', 'a', 'dry', 'bare', 'sandy', 'hole', 'with', 'nothing', 'in', 'it', 'to', 'sit', 'down', 'on', 'or', 'to', 'eat', 'it', 'was', 'a', 'and', 'that', 'means', 'comfort']\n",
      "Stemmed Sentence: ['hole', 'ground', 'live', 'hobbit', 'nasti', 'dirti', 'wet', 'hole', 'fill', 'end', 'worm', 'oozi', 'smell', 'yet', 'dri', 'bare', 'sandi', 'hole', 'noth', 'sit', 'eat', 'mean', 'comfort']\n"
     ]
    }
   ],
   "source": [
    "ps = PorterStemmer()\n",
    "stemmed_words=[]\n",
    "for w in filtered_sent:\n",
    "    stemmed_words.append(ps.stem(w))\n",
    "    \n",
    "print(\"Filtered Sentence:\", tokenized_word)\n",
    "print(\"Stemmed Sentence:\", stemmed_words)"
   ]
  },
  {
   "cell_type": "markdown",
   "id": "53bc4dd3",
   "metadata": {},
   "source": [
    "**Realizamos el análisis de sentimientos**\n",
    "\n",
    "Carrying out sentiment analysis"
   ]
  },
  {
   "cell_type": "code",
   "execution_count": 87,
   "id": "eb769be3",
   "metadata": {},
   "outputs": [
    {
     "data": {
      "text/plain": [
       "TextBlob(\"hole ground live hobbit nasti dirti wet hole fill end worm oozi smell yet dri bare sandi hole noth sit eat mean comfort\")"
      ]
     },
     "execution_count": 87,
     "metadata": {},
     "output_type": "execute_result"
    }
   ],
   "source": [
    "# convierto el primer texto filtrado en un string y posteriormente lo convierto en un blob\n",
    "# converting the first filtered text into a string and later I convert it into a blob\n",
    "text = ' '.join(stemmed_words)\n",
    "blob = TextBlob(text)\n",
    "blob"
   ]
  },
  {
   "cell_type": "code",
   "execution_count": 88,
   "id": "1eb9a353",
   "metadata": {},
   "outputs": [
    {
     "name": "stdout",
     "output_type": "stream",
     "text": [
      "-0.05653409090909091\n",
      "0.421875\n"
     ]
    }
   ],
   "source": [
    "polarity = blob.sentiment.polarity # resultado/result entre/between -1 i 1. \n",
    "subjectivity = blob.sentiment.subjectivity # resultado/result entre/between 0 i 1.\n",
    "print(polarity)\n",
    "print(subjectivity)"
   ]
  },
  {
   "cell_type": "markdown",
   "id": "3c6836e0",
   "metadata": {},
   "source": [
    "**Con el resultado obtenido podemos observar que la polaridad es neutral tendiendo a ser negativo, en muy poca medida, y la subjetividad es un poco más baja de la mitad.**\n",
    "\n",
    "With the result obtained we can observe that the polarity is neutral tending to be negative, to a very small extent, and the subjectivity is a little lower than half¡"
   ]
  },
  {
   "cell_type": "code",
   "execution_count": 89,
   "id": "d635206e",
   "metadata": {},
   "outputs": [
    {
     "name": "stdout",
     "output_type": "stream",
     "text": [
      "{'neg': 0.0, 'neu': 0.898, 'pos': 0.102, 'compound': 0.3612}\n"
     ]
    }
   ],
   "source": [
    "# anàlisi amb mètode Vader \n",
    "sid_obj = SentimentIntensityAnalyzer()\n",
    "print(sid_obj.polarity_scores(blob))"
   ]
  },
  {
   "cell_type": "markdown",
   "id": "0cc1efff",
   "metadata": {},
   "source": [
    "**Si hago una análisis con otro método, que es el método Vader, puedo ver que la mayoría de los elementos son neutrales y una pequeña parte son positivos.**\n",
    "\n",
    "If I do an analysis with another method, which is the Vader method, I can see that most of the elements are neutral and a small part are positive"
   ]
  }
 ],
 "metadata": {
  "kernelspec": {
   "display_name": "Python 3 (ipykernel)",
   "language": "python",
   "name": "python3"
  },
  "language_info": {
   "codemirror_mode": {
    "name": "ipython",
    "version": 3
   },
   "file_extension": ".py",
   "mimetype": "text/x-python",
   "name": "python",
   "nbconvert_exporter": "python",
   "pygments_lexer": "ipython3",
   "version": "3.9.12"
  }
 },
 "nbformat": 4,
 "nbformat_minor": 5
}
